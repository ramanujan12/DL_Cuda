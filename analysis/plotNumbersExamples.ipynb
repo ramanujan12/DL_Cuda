{
 "cells": [
  {
   "cell_type": "code",
   "execution_count": 1,
   "metadata": {},
   "outputs": [],
   "source": [
    "%run PlottingSetup.ipynb\n"
   ]
  },
  {
   "cell_type": "code",
   "execution_count": 2,
   "metadata": {},
   "outputs": [],
   "source": [
    "import sys\n",
    "import os\n",
    "sys.path.insert(0, os.getcwd()+\"/../Run\")\n",
    "\n",
    "from load_mnist import load_data_wrapper\n",
    "train_data,val_data,test_data=load_data_wrapper(os.getcwd()+'/../Run/mnist.pkl.gz')"
   ]
  },
  {
   "cell_type": "code",
   "execution_count": 3,
   "metadata": {},
   "outputs": [
    {
     "name": "stderr",
     "output_type": "stream",
     "text": [
      "/home/fabian/anaconda3/envs/RJupyter/lib/python3.7/site-packages/ipykernel_launcher.py:13: UserWarning: Matplotlib is currently using pgf, which is a non-GUI backend, so cannot show the figure.\n",
      "  del sys.path[0]\n"
     ]
    }
   ],
   "source": [
    "number=8\n",
    "fig,ax=plt.subplots(1,number)\n",
    "fig.set_size_inches(w=width_latex,h=width_latex/number)\n",
    "\n",
    "for i in range(number):\n",
    "    pic=np.flip(val_data[0][np.random.randint(10000)].reshape(28,28),axis=0)\n",
    "    ax[i].imshow(pic,interpolation='nearest', cmap='binary', origin='lower')\n",
    "    ax[i].axis('off')\n",
    "\n",
    "plt.subplots_adjust(wspace = 0,hspace=0,left=0,bottom=0)\n",
    "plt.savefig(overleaf_path+'numbers_examples.pgf',format='pgf')\n",
    "plt.savefig('numbers_examples.pdf',bbox_inches='tight', pad_inches = 0)\n",
    "plt.show()"
   ]
  },
  {
   "cell_type": "code",
   "execution_count": null,
   "metadata": {},
   "outputs": [],
   "source": []
  }
 ],
 "metadata": {
  "kernelspec": {
   "display_name": "Python 3",
   "language": "python",
   "name": "python3"
  },
  "language_info": {
   "codemirror_mode": {
    "name": "ipython",
    "version": 3
   },
   "file_extension": ".py",
   "mimetype": "text/x-python",
   "name": "python",
   "nbconvert_exporter": "python",
   "pygments_lexer": "ipython3",
   "version": "3.7.7"
  }
 },
 "nbformat": 4,
 "nbformat_minor": 4
}
