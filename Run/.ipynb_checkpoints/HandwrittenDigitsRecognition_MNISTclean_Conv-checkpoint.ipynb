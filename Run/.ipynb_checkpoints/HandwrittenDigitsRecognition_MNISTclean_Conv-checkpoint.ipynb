{
 "cells": [
  {
   "cell_type": "markdown",
   "metadata": {},
   "source": [
    "# Handwritten digits recognition"
   ]
  },
  {
   "cell_type": "markdown",
   "metadata": {},
   "source": [
    "The loader for the MNIST image data was taken from Nielsen's online book,\n",
    "\n",
    "http://neuralnetworksanddeeplearning.com/chap1.html\n",
    "\n",
    "See specifically the following link, for downloading the MNIST image data (we only need the mnist.pkl.gz package inside the 'data' subdirectory; store it inside the present directory of the notebook):\n",
    "https://github.com/mnielsen/neural-networks-and-deep-learning/archive/master.zip\n"
   ]
  },
  {
   "cell_type": "code",
   "execution_count": 215,
   "metadata": {},
   "outputs": [],
   "source": [
    "# Import keras library. Also import some of the layers, so we do not need to\n",
    "# write things like \"layers.Dense\", but can just write \"Dense\" instead\n",
    "from keras import *\n",
    "from keras.models import Sequential\n",
    "from keras.layers import Dense, Conv2D\n",
    "from keras.layers.noise import GaussianDropout\n",
    "from keras.layers import Flatten, AveragePooling2D, UpSampling2D, Conv2D\n",
    "\n",
    "# Import the numpy library for matrix manipulations etc.\n",
    "from numpy import *\n",
    "\n",
    "# Set up the graphics by importing the matplotlib plotting library\n",
    "import matplotlib.pyplot as plt\n",
    "%matplotlib inline\n",
    "\n",
    "# Set up a random number generator with a fixed seed, so that\n",
    "# running this whole notebook repeatedly should always give\n",
    "# the same result (useful for debugging)\n",
    "rng = random.RandomState(23455)\n",
    "\n",
    "import time"
   ]
  },
  {
   "cell_type": "code",
   "execution_count": 77,
   "metadata": {},
   "outputs": [],
   "source": [
    "\"\"\"\n",
    "mnist_loader\n",
    "~~~~~~~~~~~~\n",
    "\n",
    "taken from Nielsen's online book:\n",
    "http://neuralnetworksanddeeplearning.com/chap1.html\n",
    "\n",
    "\n",
    "A library to load the MNIST image data.  For details of the data\n",
    "structures that are returned, see the doc strings for ``load_data``\n",
    "and ``load_data_wrapper``.  In practice, ``load_data_wrapper`` is the\n",
    "function usually called by our neural network code.\n",
    "\"\"\"\n",
    "\n",
    "#### Libraries\n",
    "# Standard library\n",
    "import pickle\n",
    "import gzip\n",
    "\n",
    "def load_data():\n",
    "    \"\"\"Return the MNIST data as a tuple containing the training data,\n",
    "    the validation data, and the test data.\n",
    "\n",
    "    The ``training_data`` is returned as a tuple with two entries.\n",
    "    The first entry contains the actual training images.  This is a\n",
    "    numpy ndarray with 50,000 entries.  Each entry is, in turn, a\n",
    "    numpy ndarray with 784 values, representing the 28 * 28 = 784\n",
    "    pixels in a single MNIST image.\n",
    "\n",
    "    The second entry in the ``training_data`` tuple is a numpy ndarray\n",
    "    containing 50,000 entries.  Those entries are just the digit\n",
    "    values (0...9) for the corresponding images contained in the first\n",
    "    entry of the tuple.\n",
    "\n",
    "    The ``validation_data`` and ``test_data`` are similar, except\n",
    "    each contains only 10,000 images.\n",
    "\n",
    "    This is a nice data format, but for use in neural networks it's\n",
    "    helpful to modify the format of the ``training_data`` a little.\n",
    "    That's done in the wrapper function ``load_data_wrapper()``, see\n",
    "    below.\n",
    "    \"\"\"\n",
    "    f = gzip.open('mnist.pkl.gz', 'rb')\n",
    "    training_data, validation_data, test_data = pickle.load(f,encoding='bytes')\n",
    "    f.close()\n",
    "    return (training_data, validation_data, test_data)\n",
    "\n",
    "def load_data_wrapper():\n",
    "    \"\"\"Return a tuple containing ``(training_data, validation_data,\n",
    "    test_data)``. Based on ``load_data``, but the format is more\n",
    "    convenient for use in our implementation of neural networks.\n",
    "\n",
    "    In particular, ``training_data`` is a list containing 50,000\n",
    "    2-tuples ``(x, y)``.  ``x`` is a 784-dimensional numpy.ndarray\n",
    "    containing the input image.  ``y`` is a 10-dimensional\n",
    "    numpy.ndarray representing the unit vector corresponding to the\n",
    "    correct digit for ``x``.\n",
    "\n",
    "    ``validation_data`` and ``test_data`` are lists containing 10,000\n",
    "    2-tuples ``(x, y)``.  In each case, ``x`` is a 784-dimensional\n",
    "    numpy.ndarry containing the input image, and ``y`` is the\n",
    "    corresponding classification, i.e., the digit values (integers)\n",
    "    corresponding to ``x``.\n",
    "\n",
    "    Obviously, this means we're using slightly different formats for\n",
    "    the training data and the validation / test data.  These formats\n",
    "    turn out to be the most convenient for use in our neural network\n",
    "    code.\"\"\"\n",
    "    \n",
    "    global training_inputs, training_results\n",
    "    global validation_inputs, validation_results\n",
    "    global test_inputs, test_results\n",
    "    global num_samples, numpixels, num_test_samples\n",
    "    \n",
    "    tr_d, va_d, te_d = load_data()\n",
    "    \n",
    "    num_samples=len(tr_d[0])\n",
    "    training_inputs=zeros([num_samples,numpixels])\n",
    "    training_results=zeros([num_samples,10])    \n",
    "    for j in range(num_samples):\n",
    "        training_inputs[j,:] = reshape(tr_d[0][j], (numpixels))\n",
    "        training_results[j,:] = vectorized_result(tr_d[1][j])\n",
    "#    validation_inputs = [reshape(x, (numpixels)) for x in va_d[0]]\n",
    "#    validation_results = [vectorized_result(y) for y in va_d[1]]\n",
    "\n",
    "    num_test_samples=len(te_d[0])\n",
    "    test_inputs=zeros([num_test_samples,numpixels])\n",
    "    test_results=zeros([num_test_samples,10])    \n",
    "    for j in range(num_test_samples):\n",
    "        test_inputs[j,:] = reshape(te_d[0][j], (numpixels))\n",
    "        test_results[j,:] = vectorized_result(te_d[1][j])\n",
    "\n",
    "def make_conv_shape():\n",
    "    global training_inputs, test_inputs\n",
    "    global num_samples, num_test_samples\n",
    "    global M\n",
    "    \n",
    "    training_inputs=reshape(training_inputs,[num_samples,M,M,1])[:,::-1,:,:]\n",
    "    test_inputs=reshape(test_inputs,[num_test_samples,M,M,1])[:,::-1,:,:]\n",
    "    \n",
    "    \n",
    "def vectorized_result(j):\n",
    "    \"\"\"Return a 10-dimensional unit vector with a 1.0 in the jth\n",
    "    position and zeroes elsewhere.  This is used to convert a digit\n",
    "    (0...9) into a corresponding desired output from the neural\n",
    "    network.\"\"\"\n",
    "    e = zeros((10))\n",
    "    e[j] = 1.0\n",
    "    return e"
   ]
  },
  {
   "cell_type": "code",
   "execution_count": 206,
   "metadata": {},
   "outputs": [],
   "source": [
    "# initialize the convolutional network\n",
    "def init_net_conv_twolayer():\n",
    "    global net, numpixels\n",
    "    net = Sequential()\n",
    "    net.add(Conv2D(input_shape=(M,M,1), filters=8, kernel_size=[5,5],activation='relu',padding='same'))\n",
    "    net.add(AveragePooling2D(pool_size=2))\n",
    "    net.add(Conv2D(filters=8, kernel_size=[5,5],activation='relu',padding='same'))    \n",
    "    net.add(AveragePooling2D(pool_size=2))\n",
    "    net.add(Flatten())\n",
    "    net.add(Dense(10, activation='softmax'))\n",
    "    net.compile(loss='categorical_crossentropy', optimizer='adam', metrics=['categorical_accuracy'])"
   ]
  },
  {
   "cell_type": "code",
   "execution_count": 220,
   "metadata": {},
   "outputs": [],
   "source": [
    "# initialize the convolutional network\n",
    "def init_net_conv_twolayer_dropout():\n",
    "    global net, numpixels\n",
    "    net = Sequential()\n",
    "    net.add(GaussianDropout(input_shape=(M,M,1), rate=0.1))\n",
    "    net.add(Conv2D(filters=8, kernel_size=[5,5],activation='relu',padding='same'))\n",
    "    net.add(AveragePooling2D(pool_size=2))\n",
    "    net.add(Conv2D(filters=8, kernel_size=[5,5],activation='relu',padding='same'))    \n",
    "    net.add(AveragePooling2D(pool_size=2))\n",
    "    net.add(Flatten())\n",
    "    net.add(Dense(10, activation='softmax'))\n",
    "    net.compile(loss='categorical_crossentropy', optimizer='adam', metrics=['categorical_accuracy'])"
   ]
  },
  {
   "cell_type": "code",
   "execution_count": 218,
   "metadata": {},
   "outputs": [],
   "source": [
    "# initialize the convolutional network\n",
    "def init_net_conv_simple():\n",
    "    global net, numpixels, M\n",
    "    net = Sequential()\n",
    "    net.add(Conv2D(input_shape=(M,M,1), filters=7, kernel_size=[5,5],activation='relu',padding='same'))\n",
    "    net.add(AveragePooling2D(pool_size=4))\n",
    "    net.add(Flatten())\n",
    "    net.add(Dense(10, activation='softmax'))\n",
    "    net.compile(loss='categorical_crossentropy', optimizer=optimizers.SGD(lr=1.0), metrics=['categorical_accuracy'])"
   ]
  },
  {
   "cell_type": "code",
   "execution_count": 112,
   "metadata": {},
   "outputs": [],
   "source": [
    "def test_on(start,stop,dontprint=False):\n",
    "    global test_inputs, test_results\n",
    "    global net, predictions_probs, predictions, true_labels\n",
    "    \n",
    "    predictions_probs=net.predict_on_batch(test_inputs[start:stop,:])\n",
    "    predictions=argmax(predictions_probs,axis=1)\n",
    "    if dontprint==False:\n",
    "        print(\"Predictions: \", predictions)\n",
    "    true_labels=argmax(test_results[start:stop,:], axis=1)\n",
    "    if dontprint==False:\n",
    "        print(\"True labels: \", true_labels)"
   ]
  },
  {
   "cell_type": "code",
   "execution_count": 138,
   "metadata": {
    "collapsed": true
   },
   "outputs": [],
   "source": [
    "def display_image(which):\n",
    "    global test_inputs\n",
    "    \n",
    "    plt.imshow(test_inputs[which,:,:,0],interpolation='nearest', cmap='binary', origin='lower')\n",
    "    plt.show()"
   ]
  },
  {
   "cell_type": "code",
   "execution_count": 139,
   "metadata": {
    "collapsed": true
   },
   "outputs": [],
   "source": [
    "def display_mistakes(maxnum):\n",
    "    global test_inputs, rest_results, num_test_samples\n",
    "    global true_labels, predictions, predictions_probs\n",
    "    \n",
    "    test_on(0,num_test_samples,dontprint=True)\n",
    "    which=where(true_labels!=predictions)[0]\n",
    "    for j in which:\n",
    "        if j<maxnum:\n",
    "            display_image(j)\n",
    "            print(\"True \", true_labels[j], \" - Predicted \", predictions[j], \" with prob. \", predictions_probs[j,predictions[j]])\n",
    "        "
   ]
  },
  {
   "cell_type": "code",
   "execution_count": 188,
   "metadata": {
    "collapsed": true
   },
   "outputs": [],
   "source": [
    "def rescale_image(img):\n",
    "    mn=img.min()\n",
    "    mx=img.max()\n",
    "    return((img-mn)/(mx-mn+1e-10))\n",
    "\n",
    "def display_filters(which_layer):\n",
    "    global BigImage\n",
    "    \n",
    "    the_layers=net.layers\n",
    "    filters=the_layers[which_layer].get_weights()[0]\n",
    "    s=shape(filters)\n",
    "    MX=s[0]\n",
    "    MY=s[1]\n",
    "    num_in=s[2] # number of input channels\n",
    "    num_out=s[3] # number of output channels\n",
    "    BigImage=zeros([num_in*(MX+1),num_out*(MY+1)])\n",
    "    BigImage[:,:]=1.0\n",
    "    for j_in in range(num_in):\n",
    "        for j_out in range(num_out):\n",
    "            BigImage[j_in*(MX+1):(j_in+1)*(MX+1)-1,j_out*(MY+1):(j_out+1)*(MY+1)-1]=rescale_image(filters[:,:,j_in,j_out])\n",
    "    plt.imshow(BigImage,origin='lower',interpolation='nearest',cmap='binary')\n",
    "    plt.axis('off')\n",
    "    plt.show()"
   ]
  },
  {
   "cell_type": "markdown",
   "metadata": {},
   "source": [
    "## Test out things"
   ]
  },
  {
   "cell_type": "code",
   "execution_count": 115,
   "metadata": {},
   "outputs": [],
   "source": [
    "numpixels=784\n",
    "M=28 # 28x28 is 784\n",
    "load_data_wrapper() # load all the MNIST images"
   ]
  },
  {
   "cell_type": "code",
   "execution_count": 116,
   "metadata": {
    "collapsed": true
   },
   "outputs": [],
   "source": [
    "make_conv_shape() # convert date to shape needed for conv (28x28)"
   ]
  },
  {
   "cell_type": "code",
   "execution_count": 117,
   "metadata": {},
   "outputs": [
    {
     "data": {
      "text/plain": [
       "(50000, 28, 28, 1)"
      ]
     },
     "execution_count": 117,
     "metadata": {},
     "output_type": "execute_result"
    }
   ],
   "source": [
    "shape(training_inputs)"
   ]
  },
  {
   "cell_type": "code",
   "execution_count": 223,
   "metadata": {},
   "outputs": [],
   "source": [
    "init_net_conv_twolayer_dropout()"
   ]
  },
  {
   "cell_type": "code",
   "execution_count": 222,
   "metadata": {},
   "outputs": [
    {
     "data": {
      "image/png": "[encoded data removed]",
      "text/plain": [
       "<matplotlib.figure.Figure at 0x1175248d0>"
      ]
     },
     "metadata": {},
     "output_type": "display_data"
    }
   ],
   "source": [
    "batchsize=100\n",
    "batches=int(num_samples/batchsize)-1\n",
    "costs=zeros(batches)\n",
    "for j in range(batches):\n",
    "    costs[j]=net.train_on_batch(training_inputs[j*batchsize:(j+1)*batchsize,:,:,:], training_results[j*batchsize:(j+1)*batchsize,:])[0]\n",
    "plt.plot(costs,linewidth=3)\n",
    "plt.show()"
   ]
  },
  {
   "cell_type": "code",
   "execution_count": 224,
   "metadata": {},
   "outputs": [
    {
     "name": "stdout",
     "output_type": "stream",
     "text": [
      "Train on 45000 samples, validate on 5000 samples\n",
      "Epoch 1/10\n",
      "45000/45000 [==============================] - 28s - loss: 0.5618 - categorical_accuracy: 0.8343 - val_loss: 0.2464 - val_categorical_accuracy: 0.9298\n",
      "Epoch 2/10\n",
      "45000/45000 [==============================] - 31s - loss: 0.1923 - categorical_accuracy: 0.9433 - val_loss: 0.1707 - val_categorical_accuracy: 0.9466\n",
      "Epoch 3/10\n",
      "45000/45000 [==============================] - 31s - loss: 0.1397 - categorical_accuracy: 0.9582 - val_loss: 0.1435 - val_categorical_accuracy: 0.9548\n",
      "Epoch 4/10\n",
      "45000/45000 [==============================] - 31s - loss: 0.1172 - categorical_accuracy: 0.9652 - val_loss: 0.1214 - val_categorical_accuracy: 0.9610\n",
      "Epoch 5/10\n",
      "45000/45000 [==============================] - 30s - loss: 0.1023 - categorical_accuracy: 0.9695 - val_loss: 0.1121 - val_categorical_accuracy: 0.9646\n",
      "Epoch 6/10\n",
      "45000/45000 [==============================] - 31s - loss: 0.0940 - categorical_accuracy: 0.9716 - val_loss: 0.1012 - val_categorical_accuracy: 0.9666\n",
      "Epoch 7/10\n",
      "45000/45000 [==============================] - 29s - loss: 0.0857 - categorical_accuracy: 0.9739 - val_loss: 0.1014 - val_categorical_accuracy: 0.9676\n",
      "Epoch 8/10\n",
      "45000/45000 [==============================] - 30s - loss: 0.0802 - categorical_accuracy: 0.9754 - val_loss: 0.0938 - val_categorical_accuracy: 0.9694\n",
      "Epoch 9/10\n",
      "45000/45000 [==============================] - 29s - loss: 0.0754 - categorical_accuracy: 0.9772 - val_loss: 0.0917 - val_categorical_accuracy: 0.9694\n",
      "Epoch 10/10\n",
      "45000/45000 [==============================] - 30s - loss: 0.0710 - categorical_accuracy: 0.9788 - val_loss: 0.1001 - val_categorical_accuracy: 0.9672\n"
     ]
    }
   ],
   "source": [
    "history=net.fit(training_inputs,training_results,batch_size=100,epochs=10,validation_split=0.1)"
   ]
  },
  {
   "cell_type": "code",
   "execution_count": 67,
   "metadata": {},
   "outputs": [
    {
     "data": {
      "text/plain": [
       "10000"
      ]
     },
     "execution_count": 67,
     "metadata": {},
     "output_type": "execute_result"
    }
   ],
   "source": [
    "num_test_samples"
   ]
  },
  {
   "cell_type": "code",
   "execution_count": 230,
   "metadata": {},
   "outputs": [
    {
     "data": {
      "image/png": "[encoded data removed]",
      "text/plain": [
       "<matplotlib.figure.Figure at 0x11bac4da0>"
      ]
     },
     "metadata": {},
     "output_type": "display_data"
    }
   ],
   "source": [
    "display_filters(1)"
   ]
  },
  {
   "cell_type": "code",
   "execution_count": 227,
   "metadata": {},
   "outputs": [
    {
     "data": {
      "image/png": "[encoded data removed]",
      "text/plain": [
       "<matplotlib.figure.Figure at 0x11ba97b00>"
      ]
     },
     "metadata": {},
     "output_type": "display_data"
    }
   ],
   "source": [
    "display_filters(3)"
   ]
  },
  {
   "cell_type": "code",
   "execution_count": 172,
   "metadata": {},
   "outputs": [
    {
     "data": {
      "image/png": "[encoded data removed]",
      "text/plain": [
       "<matplotlib.figure.Figure at 0x1202164e0>"
      ]
     },
     "metadata": {},
     "output_type": "display_data"
    }
   ],
   "source": [
    "the_layers=net.layers\n",
    "filters=the_layers[0].get_weights()[0]\n",
    "plt.imshow(filters[:,:,0,3],origin='lower',interpolation='nearest',cmap='binary')\n",
    "plt.show()"
   ]
  },
  {
   "cell_type": "code",
   "execution_count": 228,
   "metadata": {},
   "outputs": [
    {
     "name": "stdout",
     "output_type": "stream",
     "text": [
      "0.0204\n"
     ]
    }
   ],
   "source": [
    "# see which fraction of the test samples is classified incorrectly\n",
    "test_on(0,num_test_samples,dontprint=True)\n",
    "which=where(true_labels!=predictions)[0]\n",
    "print(len(which)/num_test_samples)"
   ]
  },
  {
   "cell_type": "code",
   "execution_count": 229,
   "metadata": {},
   "outputs": [
    {
     "data": {
      "image/png": "[encoded data removed]",
      "text/plain": [
       "<matplotlib.figure.Figure at 0x1174f56d8>"
      ]
     },
     "metadata": {},
     "output_type": "display_data"
    }
   ],
   "source": [
    "fig=plt.figure()\n",
    "plt.plot(history.history['categorical_accuracy'], linewidth=3)\n",
    "plt.plot(history.history['val_categorical_accuracy'], linewidth=3)\n",
    "plt.show()\n",
    "#fig.savefig(\"Handwritten_MNIST_Conv_simple_Accuracy.pdf\")\n",
    "#fig.savefig(\"Handwritten_MNIST_Conv_twolayer_Accuracy.pdf\")"
   ]
  },
  {
   "cell_type": "code",
   "execution_count": 205,
   "metadata": {},
   "outputs": [
    {
     "data": {
      "image/png": "[encoded data removed]",
      "text/plain": [
       "<matplotlib.figure.Figure at 0x124d253c8>"
      ]
     },
     "metadata": {},
     "output_type": "display_data"
    }
   ],
   "source": [
    "fig=plt.figure()\n",
    "plt.plot(history.history['categorical_accuracy'], linewidth=3)\n",
    "plt.plot(history.history['val_categorical_accuracy'], linewidth=3)\n",
    "plt.show()\n",
    "#fig.savefig(\"Handwritten_MNIST_Conv_simple_Accuracy.pdf\")\n",
    "fig.savefig(\"Handwritten_MNIST_Conv_twolayer_Accuracy.pdf\")"
   ]
  },
  {
   "cell_type": "code",
   "execution_count": 211,
   "metadata": {},
   "outputs": [
    {
     "data": {
      "image/png": "[encoded data removed]",
      "text/plain": [
       "<matplotlib.figure.Figure at 0x116ef00b8>"
      ]
     },
     "metadata": {},
     "output_type": "display_data"
    }
   ],
   "source": [
    "fig=plt.figure()\n",
    "plt.plot(history.history['categorical_accuracy'], linewidth=3)\n",
    "plt.plot(history.history['val_categorical_accuracy'], linewidth=3)\n",
    "plt.show()\n",
    "#fig.savefig(\"Handwritten_MNIST_Conv_simple_Accuracy.pdf\")\n",
    "fig.savefig(\"Handwritten_MNIST_Conv_twolayer_Adam_Accuracy.pdf\")"
   ]
  },
  {
   "cell_type": "code",
   "execution_count": 198,
   "metadata": {},
   "outputs": [
    {
     "data": {
      "image/png": "[encoded data removed]",
      "text/plain": [
       "<matplotlib.figure.Figure at 0x11e33dba8>"
      ]
     },
     "metadata": {},
     "output_type": "display_data"
    },
    {
     "name": "stdout",
     "output_type": "stream",
     "text": [
      "True  9  - Predicted  5  with prob.  0.888684\n"
     ]
    },
    {
     "data": {
      "image/png": "[encoded data removed]",
      "text/plain": [
       "<matplotlib.figure.Figure at 0x11bbaa0f0>"
      ]
     },
     "metadata": {},
     "output_type": "display_data"
    },
    {
     "name": "stdout",
     "output_type": "stream",
     "text": [
      "True  8  - Predicted  3  with prob.  0.487335\n"
     ]
    }
   ],
   "source": [
    "display_mistakes(200)"
   ]
  },
  {
   "cell_type": "code",
   "execution_count": 197,
   "metadata": {},
   "outputs": [
    {
     "name": "stdout",
     "output_type": "stream",
     "text": [
      "Predictions:  [7 2 1 0 4 1 4 9 5 9 0 6 9 0 1 5 9 7 3 4]\n",
      "True labels:  [7 2 1 0 4 1 4 9 5 9 0 6 9 0 1 5 9 7 3 4]\n"
     ]
    }
   ],
   "source": [
    "test_on(0,20)"
   ]
  },
  {
   "cell_type": "code",
   "execution_count": 198,
   "metadata": {},
   "outputs": [
    {
     "name": "stdout",
     "output_type": "stream",
     "text": [
      "[  9.73294639e-11   6.10998541e-09   1.88883520e-10   3.27028101e-05\n",
      "   5.48119948e-04   1.65700214e-07   3.20945215e-10   8.04454430e-06\n",
      "   9.87345743e-08   9.99410868e-01]\n"
     ]
    }
   ],
   "source": [
    "print(predictions_probs[8,:])"
   ]
  },
  {
   "cell_type": "code",
   "execution_count": 196,
   "metadata": {},
   "outputs": [
    {
     "data": {
      "image/png": "[encoded data removed]",
      "text/plain": [
       "<matplotlib.figure.Figure at 0x116216978>"
      ]
     },
     "metadata": {},
     "output_type": "display_data"
    }
   ],
   "source": [
    "display_image(8)"
   ]
  },
  {
   "cell_type": "code",
   "execution_count": 80,
   "metadata": {},
   "outputs": [],
   "source": [
    "short_inputs=training_inputs[0:200]\n",
    "short_results=training_results[0:200]"
   ]
  },
  {
   "cell_type": "markdown",
   "metadata": {},
   "source": [
    "# Misc"
   ]
  },
  {
   "cell_type": "code",
   "execution_count": 118,
   "metadata": {
    "scrolled": true
   },
   "outputs": [
    {
     "data": {
      "image/png": "[encoded data removed]",
      "text/plain": [
       "<matplotlib.figure.Figure at 0x1201da5f8>"
      ]
     },
     "metadata": {},
     "output_type": "display_data"
    }
   ],
   "source": [
    "plt.imshow(training_inputs[55,:,:,0],cmap='binary',origin='lower',interpolation='nearest')\n",
    "plt.show()"
   ]
  },
  {
   "cell_type": "code",
   "execution_count": null,
   "metadata": {
    "collapsed": true
   },
   "outputs": [],
   "source": []
  }
 ],
 "metadata": {
  "anaconda-cloud": {},
  "kernelspec": {
   "display_name": "Python 3",
   "language": "python",
   "name": "python3"
  },
  "language_info": {
   "codemirror_mode": {
    "name": "ipython",
    "version": 3
   },
   "file_extension": ".py",
   "mimetype": "text/x-python",
   "name": "python",
   "nbconvert_exporter": "python",
   "pygments_lexer": "ipython3",
   "version": "3.6.5"
  },
  "toc": {
   "base_numbering": 1,
   "nav_menu": {},
   "number_sections": true,
   "sideBar": true,
   "skip_h1_title": false,
   "title_cell": "Table of Contents",
   "title_sidebar": "Contents",
   "toc_cell": false,
   "toc_position": {},
   "toc_section_display": true,
   "toc_window_display": false
  }
 },
 "nbformat": 4,
 "nbformat_minor": 1
}
