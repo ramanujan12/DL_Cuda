{
 "cells": [
  {
   "cell_type": "code",
   "execution_count": 96,
   "metadata": {},
   "outputs": [
    {
     "data": {
      "text/plain": [
       "(10000, 10)"
      ]
     },
     "execution_count": 96,
     "metadata": {},
     "output_type": "execute_result"
    }
   ],
   "source": [
    "import pickle\n",
    "import gzip\n",
    "import numpy as np\n",
    "import matplotlib.pyplot as plt\n",
    "import os\n",
    "\n",
    "mnist_data_location=os.getcwd()+'/mnist.pkl.gz';\n",
    "\n",
    "def load_data():\n",
    "\n",
    "    f = gzip.open(mnist_data_location, 'rb')\n",
    "    train_data, val_data, test_data = pickle.load(f,encoding='bytes')\n",
    "    f.close()\n",
    "    return (train_data, val_data, test_data)\n",
    "\n",
    "\n",
    "def load_data_wrapper():\n",
    "    \n",
    "    train_data, val_data, test_data=load_data();\n",
    "    \n",
    "    train_input=train_data[0]\n",
    "    train_labels=np.array([np.eye(1,10,x).reshape(-1) for x in train_data[1]])\n",
    "\n",
    "    val_input=val_data[0]\n",
    "    val_labels=np.array([np.eye(1,10,x).reshape(-1) for x in val_data[1]])\n",
    "\n",
    "    test_input=test_data[0]\n",
    "    test_labels=np.array([np.eye(1,10,x).reshape(-1) for x in test_data[1]])\n",
    "    \n",
    "    return (train_input,train_labels),(val_input,val_labels),(test_input,test_labels)\n",
    "\n",
    "train,val,test=load_data_wrapper()\n",
    "\n",
    "def train():\n",
    "#     loop over epochs\n",
    "#     loop over batches\n",
    "#     set up batch\n",
    "#     train_on_batch\n",
    "    return 0\n",
    "\n",
    "def train_on_batch(batch_input,batch_labels):\n",
    "    \n",
    "    #set up array to store meta data in\n",
    "    #update step in C\n",
    "    #validate\n",
    "    #save in log\n",
    "    \n",
    "    return 0"
   ]
  }
 ],
 "metadata": {
  "kernelspec": {
   "display_name": "Python 3",
   "language": "python",
   "name": "python3"
  },
  "language_info": {
   "codemirror_mode": {
    "name": "ipython",
    "version": 3
   },
   "file_extension": ".py",
   "mimetype": "text/x-python",
   "name": "python",
   "nbconvert_exporter": "python",
   "pygments_lexer": "ipython3",
   "version": "3.7.7"
  }
 },
 "nbformat": 4,
 "nbformat_minor": 4
}
